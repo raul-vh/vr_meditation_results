{
 "cells": [
  {
   "cell_type": "markdown",
   "id": "99302c38-8613-4650-af0a-8e119165921d",
   "metadata": {},
   "source": [
    "# Part 1: Preprocessing the heartrate data"
   ]
  },
  {
   "cell_type": "code",
   "execution_count": 1,
   "id": "7a2bebaa-1559-4797-8156-8d30c9c6fd61",
   "metadata": {},
   "outputs": [],
   "source": [
    "import pandas as pd\n",
    "import numpy as np"
   ]
  },
  {
   "cell_type": "code",
   "execution_count": 2,
   "id": "bcca092d-1322-465a-a87f-491c039e761e",
   "metadata": {},
   "outputs": [],
   "source": [
    "#initiate dict with participant numbers as keys and dataframes as values\n",
    "participants_dict = {}\n",
    "for x in [i for i in range(1,38)]:\n",
    "    df = pd.read_csv(f'raw_heartdata/{x}.CSV', header=2) # read in heartrate data\n",
    "    participants_dict[x] = df[['Time','HR (bpm)']] #only select time and HR columns"
   ]
  },
  {
   "cell_type": "code",
   "execution_count": 3,
   "id": "2e2089b3-a521-4016-af13-d1c79828cd4f",
   "metadata": {},
   "outputs": [
    {
     "data": {
      "text/html": [
       "<div>\n",
       "<style scoped>\n",
       "    .dataframe tbody tr th:only-of-type {\n",
       "        vertical-align: middle;\n",
       "    }\n",
       "\n",
       "    .dataframe tbody tr th {\n",
       "        vertical-align: top;\n",
       "    }\n",
       "\n",
       "    .dataframe thead th {\n",
       "        text-align: right;\n",
       "    }\n",
       "</style>\n",
       "<table border=\"1\" class=\"dataframe\">\n",
       "  <thead>\n",
       "    <tr style=\"text-align: right;\">\n",
       "      <th></th>\n",
       "      <th>Time</th>\n",
       "      <th>HR (bpm)</th>\n",
       "    </tr>\n",
       "  </thead>\n",
       "  <tbody>\n",
       "    <tr>\n",
       "      <th>0</th>\n",
       "      <td>00:00:00</td>\n",
       "      <td>80</td>\n",
       "    </tr>\n",
       "    <tr>\n",
       "      <th>1</th>\n",
       "      <td>00:00:01</td>\n",
       "      <td>80</td>\n",
       "    </tr>\n",
       "    <tr>\n",
       "      <th>2</th>\n",
       "      <td>00:00:02</td>\n",
       "      <td>81</td>\n",
       "    </tr>\n",
       "    <tr>\n",
       "      <th>3</th>\n",
       "      <td>00:00:03</td>\n",
       "      <td>81</td>\n",
       "    </tr>\n",
       "    <tr>\n",
       "      <th>4</th>\n",
       "      <td>00:00:04</td>\n",
       "      <td>82</td>\n",
       "    </tr>\n",
       "    <tr>\n",
       "      <th>...</th>\n",
       "      <td>...</td>\n",
       "      <td>...</td>\n",
       "    </tr>\n",
       "    <tr>\n",
       "      <th>725</th>\n",
       "      <td>00:12:05</td>\n",
       "      <td>80</td>\n",
       "    </tr>\n",
       "    <tr>\n",
       "      <th>726</th>\n",
       "      <td>00:12:06</td>\n",
       "      <td>79</td>\n",
       "    </tr>\n",
       "    <tr>\n",
       "      <th>727</th>\n",
       "      <td>00:12:07</td>\n",
       "      <td>79</td>\n",
       "    </tr>\n",
       "    <tr>\n",
       "      <th>728</th>\n",
       "      <td>00:12:08</td>\n",
       "      <td>78</td>\n",
       "    </tr>\n",
       "    <tr>\n",
       "      <th>729</th>\n",
       "      <td>00:12:09</td>\n",
       "      <td>79</td>\n",
       "    </tr>\n",
       "  </tbody>\n",
       "</table>\n",
       "<p>730 rows × 2 columns</p>\n",
       "</div>"
      ],
      "text/plain": [
       "         Time  HR (bpm)\n",
       "0    00:00:00        80\n",
       "1    00:00:01        80\n",
       "2    00:00:02        81\n",
       "3    00:00:03        81\n",
       "4    00:00:04        82\n",
       "..        ...       ...\n",
       "725  00:12:05        80\n",
       "726  00:12:06        79\n",
       "727  00:12:07        79\n",
       "728  00:12:08        78\n",
       "729  00:12:09        79\n",
       "\n",
       "[730 rows x 2 columns]"
      ]
     },
     "execution_count": 3,
     "metadata": {},
     "output_type": "execute_result"
    }
   ],
   "source": [
    "# To show what a single dataframe looks like\n",
    "participants_dict[1]"
   ]
  },
  {
   "cell_type": "code",
   "execution_count": 4,
   "id": "851fa4a8-1f50-4440-82f0-50d368e8b4e6",
   "metadata": {},
   "outputs": [
    {
     "name": "stdout",
     "output_type": "stream",
     "text": [
      "DataFrame with missing values:\n",
      "5\n",
      "DataFrame with missing values:\n",
      "10\n",
      "DataFrame with missing values:\n",
      "19\n",
      "DataFrame with missing values:\n",
      "28\n"
     ]
    }
   ],
   "source": [
    "# To show what dataframe have missing values\n",
    "for i in participants_dict.keys():\n",
    "    if participants_dict[i].isnull().any().any():\n",
    "        print(\"DataFrame with missing values:\")\n",
    "        print(i)"
   ]
  },
  {
   "cell_type": "markdown",
   "id": "268b4b67-72a7-437f-a8af-03d18b0a1783",
   "metadata": {},
   "source": [
    "This is correct.\\\n",
    "Participant 5 & 28 did not have any heartrate measurements, and should therefore be excluded from the analysis.\\\n",
    "Participant 10 & 19 had a hiccup in the heartrate measurement.\\\n",
    "To solve this, the missing values should be replaced with the average in that period."
   ]
  },
  {
   "cell_type": "code",
   "execution_count": 5,
   "id": "780fcc4d-6b6e-431d-bdd4-09a6f5059b1f",
   "metadata": {},
   "outputs": [],
   "source": [
    "# read in the raw participants data\n",
    "raw_participants_data = pd.read_csv('raw_participants_data.csv', index_col=0)"
   ]
  },
  {
   "cell_type": "code",
   "execution_count": 6,
   "id": "189d4f98-4d97-4755-ab73-cd5270938fb5",
   "metadata": {},
   "outputs": [
    {
     "name": "stderr",
     "output_type": "stream",
     "text": [
      "/tmp/ipykernel_39727/3379458404.py:15: SettingWithCopyWarning: \n",
      "A value is trying to be set on a copy of a slice from a DataFrame\n",
      "\n",
      "See the caveats in the documentation: https://pandas.pydata.org/pandas-docs/stable/user_guide/indexing.html#returning-a-view-versus-a-copy\n",
      "  before['HR (bpm)'].fillna(average_heart_rate_before, inplace=True)\n",
      "/tmp/ipykernel_39727/3379458404.py:16: SettingWithCopyWarning: \n",
      "A value is trying to be set on a copy of a slice from a DataFrame\n",
      "\n",
      "See the caveats in the documentation: https://pandas.pydata.org/pandas-docs/stable/user_guide/indexing.html#returning-a-view-versus-a-copy\n",
      "  during['HR (bpm)'].fillna(average_heart_rate_during, inplace=True)\n"
     ]
    }
   ],
   "source": [
    "# replace NaN values of 10 & 19\n",
    "\n",
    "def fill_missing_values(participant_id) -> pd.DataFrame:\n",
    "    \"\"\"Replaces NaN values for a given participant\"\"\"\n",
    "    start = raw_participants_data['Start'][participant_id]\n",
    "    end = raw_participants_data['End'][participant_id]\n",
    "    \n",
    "    before = participants_dict[participant_id].loc[:start-1]\n",
    "    during = participants_dict[participant_id].loc[start:end]\n",
    "    #calculate average heartrate per period\n",
    "    average_heart_rate_before = before['HR (bpm)'].mean()\n",
    "    average_heart_rate_during = during['HR (bpm)'].mean()\n",
    "\n",
    "    # replace missing values with the average heart rate\n",
    "    before['HR (bpm)'].fillna(average_heart_rate_before, inplace=True)\n",
    "    during['HR (bpm)'].fillna(average_heart_rate_during, inplace=True)\n",
    "    return pd.concat([before, during], ignore_index=True)\n",
    "\n",
    "participants_dict[10] = fill_missing_values(10)\n",
    "participants_dict[19] = fill_missing_values(19)\n",
    "# print(participants_dict[10])"
   ]
  },
  {
   "cell_type": "code",
   "execution_count": 7,
   "id": "58f46a94-73d6-40ed-8749-691580efb435",
   "metadata": {},
   "outputs": [
    {
     "name": "stdout",
     "output_type": "stream",
     "text": [
      "DataFrame with missing values:\n",
      "5\n",
      "DataFrame with missing values:\n",
      "28\n"
     ]
    }
   ],
   "source": [
    "# Check if the missing values are replaced\n",
    "for i in participants_dict.keys():\n",
    "    if participants_dict[i].isnull().any().any():\n",
    "        print(\"DataFrame with missing values:\")\n",
    "        print(i)"
   ]
  },
  {
   "cell_type": "markdown",
   "id": "f024c84c-3f37-4ede-9f4f-b0d354b547f5",
   "metadata": {},
   "source": [
    "Indeed, the missing values are replaced.\\\n",
    "5 & 28 will later be excluded from analysis."
   ]
  },
  {
   "cell_type": "code",
   "execution_count": 8,
   "id": "abd262c7-7b19-4e28-bbd6-73ca811247f4",
   "metadata": {},
   "outputs": [],
   "source": [
    "raw_participants_data_with_heartrate_data = raw_participants_data.copy()\n",
    "\n",
    "def calculate_heartrate(participant_id):\n",
    "    \"\"\"Function to calculate all heartrate attributes for the final dataset\n",
    "    Average_Hearrate_Before\n",
    "    Average_Heartrate_During\n",
    "    Max_Heartrate_Before\n",
    "    Max_Heartrate_During\n",
    "    Min_Heartrate_Before\n",
    "    Min_Heartrate_During\"\"\"\n",
    "    start = raw_participants_data['Start'][participant_id]\n",
    "    end = raw_participants_data['End'][participant_id]\n",
    "    \n",
    "    before = participants_dict[participant_id].loc[:start-1].copy()\n",
    "    during = participants_dict[participant_id].loc[start:end].copy()\n",
    "\n",
    "    # Calculate average heartrate per period\n",
    "    average_heart_rate_before = before['HR (bpm)'].mean()\n",
    "    average_heart_rate_during = during['HR (bpm)'].mean()\n",
    "\n",
    "    # Calculate max heartrate per period\n",
    "    max_heart_rate_before = before['HR (bpm)'].max()\n",
    "    max_heart_rate_during = during['HR (bpm)'].max()\n",
    "\n",
    "    # Calculate min heartrate per period\n",
    "    min_heart_rate_before = before['HR (bpm)'].min()\n",
    "    min_heart_rate_during = during['HR (bpm)'].min()\n",
    "\n",
    "    # Write out all data to target dataframe\n",
    "    raw_participants_data_with_heartrate_data.at[participant_id, 'Average_Heartrate_Before'] = average_heart_rate_before\n",
    "    raw_participants_data_with_heartrate_data.at[participant_id, 'Average_Heartrate_During'] = average_heart_rate_during\n",
    "    raw_participants_data_with_heartrate_data.at[participant_id, 'Max_Heartrate_Before'] = max_heart_rate_before\n",
    "    raw_participants_data_with_heartrate_data.at[participant_id, 'Max_Heartrate_During'] = max_heart_rate_during\n",
    "    raw_participants_data_with_heartrate_data.at[participant_id, 'Min_Heartrate_Before'] = min_heart_rate_before\n",
    "    raw_participants_data_with_heartrate_data.at[participant_id, 'Min_Heartrate_During'] = min_heart_rate_during\n",
    "    \n",
    "    return\n"
   ]
  },
  {
   "cell_type": "code",
   "execution_count": 9,
   "id": "344cd3d6-5fe3-4445-b653-9a1c65d7e31f",
   "metadata": {},
   "outputs": [],
   "source": [
    "# Apply the above function to all participants\n",
    "for i in participants_dict.keys():\n",
    "    calculate_heartrate(i)"
   ]
  },
  {
   "cell_type": "code",
   "execution_count": 10,
   "id": "3e4b0ac2-29c3-48c8-81f2-d3285632371d",
   "metadata": {},
   "outputs": [],
   "source": [
    "# Manually add missing values for participant 5 and 28\n",
    "for participant_id in [5,28]:\n",
    "    raw_participants_data_with_heartrate_data.at[participant_id, 'Average_Heartrate_Before'] = np.nan\n",
    "    raw_participants_data_with_heartrate_data.at[participant_id, 'Average_Heartrate_During'] = np.nan\n",
    "    raw_participants_data_with_heartrate_data.at[participant_id, 'Max_Heartrate_Before'] = np.nan\n",
    "    raw_participants_data_with_heartrate_data.at[participant_id, 'Max_Heartrate_During'] = np.nan\n",
    "    raw_participants_data_with_heartrate_data.at[participant_id, 'Min_Heartrate_Before'] = np.nan\n",
    "    raw_participants_data_with_heartrate_data.at[participant_id, 'Min_Heartrate_During'] = np.nan"
   ]
  },
  {
   "cell_type": "code",
   "execution_count": 11,
   "id": "ffab2447-1043-41a4-bdd1-4ba7a122c19c",
   "metadata": {},
   "outputs": [],
   "source": [
    "# raw_participants_data_with_heartrate_data.to_csv('raw_participants_data_with_heartrate_data.csv')"
   ]
  },
  {
   "cell_type": "markdown",
   "id": "827bfcc8-7de7-4778-98b9-08a0ce4e182f",
   "metadata": {},
   "source": [
    "# Part 2: Preprocessing the survey data"
   ]
  },
  {
   "cell_type": "code",
   "execution_count": 12,
   "id": "52014692-1946-45f1-bda2-b771903aaf40",
   "metadata": {},
   "outputs": [],
   "source": [
    "A = pd.read_csv('survey_responses/Enquete A OIS.csv', index_col=0)\n",
    "B = pd.read_csv('survey_responses/Enquete B OIS.csv', index_col=0)\n",
    "participants_data_with_heartrate = pd.read_csv('raw_participants_data_with_heartrate_data.csv', index_col=0)"
   ]
  },
  {
   "cell_type": "code",
   "execution_count": 13,
   "id": "9cc428d0-b771-4b1e-9208-3bf92fdf636d",
   "metadata": {},
   "outputs": [],
   "source": [
    "# dictionary to pair final csv file (key) with survey responses (value)\n",
    "pairing_dict= {\n",
    "    'Age': 'Age',\n",
    "    'Gender': 'Wat is uw gender?',\n",
    "    'VR_know_how': 'In hoeverre zou u uw kennis van VR omschrijven?',\n",
    "    'VR_headset_experience': 'Heeft u al eens eerder een VR bril gebruikt',\n",
    "    \n",
    "    'b_Item_1_C': 'Mijn ademhaling is sneller dan normaal',\n",
    "    'b_Item_2_C': 'Mijn hartslag is hoger dan normaal',\n",
    "    'b_Item_3_M': 'Mijn spieren voelen gespannen (gesloten vuisten, strakke kaak/wenkbrauwen etc.)',\n",
    "    'b_Item_4_M': 'Mijn spieren voelen relaxed',\n",
    "    'b_Item_5_M': 'Mijn spieren voelen losjes',\n",
    "    'b_Item_6_G': 'Ik voel mij relaxed',\n",
    "    'b_Item_7_G': 'Op het moment, ben ik volkomen kalm',\n",
    "    'b_Item_8_S': 'Ik voel mij slaperig en/of moe',\n",
    "    'b_Item_9_S': 'Ik sta op het punt om in slaap te vallen',\n",
    "    'b_Item_10_S': 'Ik voel mij verfrist en wakker',\n",
    "    \n",
    "    'a_Item_1_C': 'Mijn ademhaling is sneller dan normaal.1',\n",
    "    'a_Item_2_C': 'Mijn hartslag is hoger dan normaal.1',\n",
    "    'a_Item_3_M': 'Mijn spieren voelen gespannen (gesloten vuisten, strakke kaak/wenkbrauwen etc.).1',\n",
    "    'a_Item_4_M': 'Mijn spieren voelen relaxed.1',\n",
    "    'a_Item_5_M': 'Mijn spieren voelen losjes.1',\n",
    "    'a_Item_6_G': 'Ik voel mij relaxed.1',\n",
    "    'a_Item_7_G': 'Op het moment, ben ik volkomen kalm.1',\n",
    "    'a_Item_8_S': 'Ik voel mij slaperig en/of moe.1',\n",
    "    'a_Item_9_S': 'Ik sta op het punt om in slaap te vallen.1',\n",
    "    'a_Item_10_S': 'Ik voel mij verfrist en wakker.1'\n",
    "}"
   ]
  },
  {
   "cell_type": "code",
   "execution_count": 14,
   "id": "29968a92-c735-478f-8413-b707f191735f",
   "metadata": {},
   "outputs": [
    {
     "name": "stderr",
     "output_type": "stream",
     "text": [
      "/tmp/ipykernel_39727/3451536650.py:12: FutureWarning: Setting an item of incompatible dtype is deprecated and will raise in a future error of pandas. Value 'Nee' has dtype incompatible with float64, please explicitly cast to a compatible dtype first.\n",
      "  participants_data_final.at[id, final] = A[current][A['ID'] == id].iloc[0]\n"
     ]
    }
   ],
   "source": [
    "# initiate a finale to be exported dataframe\n",
    "participants_data_final = participants_data_with_heartrate\n",
    "\n",
    "# loop to write all the data to the final dataframe\n",
    "for id in [x for x in range(1, 38) if x != 14]:\n",
    "    for final, current in pairing_dict.items():\n",
    "        # participant 14 had no survey data\n",
    "        if id==14:\n",
    "            pass\n",
    "        try:\n",
    "            # Attempt to retrieve data from DataFrame A\n",
    "            participants_data_final.at[id, final] = A[current][A['ID'] == id].iloc[0]\n",
    "        except IndexError:\n",
    "            try:\n",
    "                # If not found in DataFrame A, attempt to retrieve data from DataFrame B\n",
    "                participants_data_final.at[id, final] = B[current][B['ID'] == id].iloc[0]\n",
    "            except IndexError:\n",
    "                # If not found in both DataFrames, you may want to handle this case appropriately\n",
    "                participants_data_final.at[id, final] = None"
   ]
  },
  {
   "cell_type": "code",
   "execution_count": 15,
   "id": "c97fa896-cf44-4ee2-9d66-3362163a1aec",
   "metadata": {},
   "outputs": [],
   "source": [
    "# Processing the Gender, and VR_headset_experience column to correct datatypes\n",
    "participants_data_final.loc[participants_data_final[\"Gender\"] == \"Man\", \"Gender\"] = 'M'\n",
    "participants_data_final.loc[participants_data_final[\"Gender\"] == \"Vrouw\", \"Gender\"] = 'V'\n",
    "participants_data_final.loc[participants_data_final[\"VR_headset_experience\"] == \"Nee\", \"VR_headset_experience\"] = '0'\n",
    "participants_data_final.loc[participants_data_final[\"VR_headset_experience\"] == \"Ja\", \"VR_headset_experience\"] = '1'\n",
    "participants_data_final.loc[participants_data_final[\"VR_headset_experience\"] == \"Weet ik niet\", \"VR_headset_experience\"] = '0'"
   ]
  },
  {
   "cell_type": "code",
   "execution_count": 16,
   "id": "bc336dba-1945-448e-9d6a-873c7b9ed6ae",
   "metadata": {},
   "outputs": [],
   "source": [
    "# participants_data_final.to_csv('participants_data_final.csv')"
   ]
  },
  {
   "cell_type": "code",
   "execution_count": null,
   "id": "ceb77873-70ea-435b-ab30-ae69685d31f9",
   "metadata": {},
   "outputs": [],
   "source": []
  }
 ],
 "metadata": {
  "kernelspec": {
   "display_name": "Python 3 (ipykernel)",
   "language": "python",
   "name": "python3"
  },
  "language_info": {
   "codemirror_mode": {
    "name": "ipython",
    "version": 3
   },
   "file_extension": ".py",
   "mimetype": "text/x-python",
   "name": "python",
   "nbconvert_exporter": "python",
   "pygments_lexer": "ipython3",
   "version": "3.12.0"
  }
 },
 "nbformat": 4,
 "nbformat_minor": 5
}
